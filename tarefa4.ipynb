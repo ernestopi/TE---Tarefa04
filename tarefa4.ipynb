{
  "nbformat": 4,
  "nbformat_minor": 0,
  "metadata": {
    "colab": {
      "provenance": []
    },
    "kernelspec": {
      "name": "python3",
      "display_name": "Python 3"
    },
    "language_info": {
      "name": "python"
    }
  },
  "cells": [
    {
      "cell_type": "code",
      "execution_count": null,
      "metadata": {
        "id": "4_Br73Fc1gP3"
      },
      "outputs": [],
      "source": [
        "#QUESTÃO 1:\n",
        "b) ( 1, 2, 3 )\n",
        "c) tuple( [ 1, 2, 3 ] )\n",
        "d) 1, 2, 3"
      ]
    },
    {
      "cell_type": "code",
      "source": [
        "#QUESTÃO 2:\n",
        "\n",
        "carros = (\n",
        "(\n",
        "'Jetta Variant',\n",
        "'Motor 4.0 Turbo',\n",
        "2003,\n",
        "False,\n",
        "('Rodas de liga', 'Travas elétricas', 'Piloto automático')\n",
        "),\n",
        "(\n",
        "'Passat',\n",
        "'Motor Diesel',\n",
        "1991,\n",
        "True,\n",
        "('Central multimídia', 'Teto panorâmico', 'Freios ABS')\n",
        ")\n",
        ")\n",
        "\n",
        "# letra a)\n",
        "print(carros[1][4][2])\n",
        "\n",
        "#letra b)\n",
        "print(carros[0][4][:2])"
      ],
      "metadata": {
        "id": "Ufj-TtNB2H8d"
      },
      "execution_count": null,
      "outputs": []
    },
    {
      "cell_type": "code",
      "source": [
        "#QUESTÃO 3:\n",
        "carros = (\n",
        "(\n",
        "'Jetta Variant',\n",
        "'Motor 4.0 Turbo',\n",
        "2003,\n",
        "False,\n",
        "('Rodas de liga', 'Travas elétricas', 'Piloto automático')\n",
        "),\n",
        "(\n",
        "'Passat',\n",
        "'Motor Diesel',\n",
        "1991,\n",
        "True,\n",
        "('Central multimídia', 'Teto panorâmico', 'Freios ABS')\n",
        ")\n",
        ")\n",
        "\n",
        "for carro in carros:\n",
        "    for elemento in carro[4]:\n",
        "        print(elemento)\n"
      ],
      "metadata": {
        "id": "w6iMLdA12Jd5"
      },
      "execution_count": null,
      "outputs": []
    },
    {
      "cell_type": "code",
      "source": [
        "#QUESTÃO 4:\n",
        "\n",
        "nomes = ['Passat', 'Crossfox', 'DS5', 'C4', 'Jetta']\n",
        "kms = [15000, 12000, 32000, 8000, 50000]\n",
        "\n",
        "for nome, km in zip(nomes, kms):\n",
        "    if km < 20000:\n",
        "        print(nome)"
      ],
      "metadata": {
        "id": "UvjSb1H-2TMg"
      },
      "execution_count": null,
      "outputs": []
    },
    {
      "cell_type": "code",
      "source": [
        "#QUESTÃO 5:\n",
        "\n",
        "nomes = ['Passat', 'Crossfox', 'DS5', 'C4', 'Jetta']\n",
        "kms = [15000, 12000, 32000, 8000, 50000]\n",
        "\n",
        "dicionario = dict(zip(nomes, kms))\n",
        "print(dicionario)"
      ],
      "metadata": {
        "id": "L7-tXzGC2XfH"
      },
      "execution_count": null,
      "outputs": []
    },
    {
      "cell_type": "code",
      "source": [
        "#QUESTÃO 6:\n",
        "\n",
        "dados = {\n",
        "'Passat': {\n",
        "'ano': 2012,\n",
        "'km': 50000,\n",
        "'valor': 75000,\n",
        "'acessorios': ['Airbag', 'ABS']\n",
        "},\n",
        "'Crossfox': {\n",
        "'ano': 2015,\n",
        "'km': 35000,\n",
        "'valor': 25000\n",
        "}\n",
        "}\n",
        "#letra a)\n",
        "'acessorios' in dados['Crossfox']\n",
        "\n",
        "#letra b)\n",
        "'acessorios' in dados['Passat']\n",
        "\n",
        "#letra c)\n",
        "dados['Crossfox']['valor']\n",
        "# Resposta: 25000\n",
        "\n",
        "\n",
        "#letra d)\n",
        "dados['Passat']['acessorios'][-1]\n",
        "# Resposta: 'ABS'\n"
      ],
      "metadata": {
        "id": "PnhheALQ2cbQ"
      },
      "execution_count": null,
      "outputs": []
    },
    {
      "cell_type": "code",
      "source": [
        "#QUESTÃO 7:\n",
        "\n",
        "dados = {'Jetta': 88000, 'Crossfox': 72000, 'DS5': 124000}\n",
        "novos_dados = {'Passat': 85000, 'Fusca': 150000}\n",
        "dados.update(novos_dados)\n",
        "print(dados)\n"
      ],
      "metadata": {
        "id": "W4bGmMYc2iSx"
      },
      "execution_count": null,
      "outputs": []
    },
    {
      "cell_type": "code",
      "source": [
        "#QUESTÃO 8:\n",
        "\n",
        "dados = {\n",
        "'Crossfox': {'valor': 72000, 'ano': 2005},\n",
        "\n",
        "'DS5': {'valor': 125000, 'ano': 2015},\n",
        "'Fusca': {'valor': 150000, 'ano': 1976},\n",
        "'Jetta': {'valor': 88000, 'ano': 2010},\n",
        "'Passat': {'valor': 106000, 'ano': 1998}\n",
        "}\n",
        "\n",
        "for nome, info in dados.items():\n",
        "    if info['ano'] >= 2000:\n",
        "        print(nome)\n"
      ],
      "metadata": {
        "id": "UU2une3z2mUf"
      },
      "execution_count": null,
      "outputs": []
    },
    {
      "cell_type": "code",
      "source": [
        "#QUESTÃO 9:\n",
        "\n",
        "#alternativa incorreta é a letra c) tupla() - Cria uma tupla."
      ],
      "metadata": {
        "id": "ai-vWmle2qMZ"
      },
      "execution_count": null,
      "outputs": []
    },
    {
      "cell_type": "code",
      "source": [
        "#QUESTÃO 10:\n",
        "\n",
        "dados = {\n",
        "'Crossfox': {'km': 35000, 'ano': 2005},\n",
        "'DS5': {'km': 17000, 'ano': 2015},\n",
        "'Fusca': {'km': 130000, 'ano': 1979},\n",
        "'Jetta': {'km': 56000, 'ano': 2011},\n",
        "'Passat': {'km': 62000, 'ano': 1999}\n",
        "}\n",
        "\n",
        "\n",
        "\n",
        "#RESPOSTA\n",
        "def km_media(dataset, ano_atual):\n",
        "    for carro, info in dataset.items():\n",
        "        km_total = info['km']\n",
        "        ano_fabricacao = info['ano']\n",
        "        km_media_anual = km_total / (ano_atual - ano_fabricacao)\n",
        "        print(f\"{km_media_anual:.1f}\")\n",
        "\n",
        "#chamando a função\n",
        "km_media(dados, 2019)\n",
        "\n"
      ],
      "metadata": {
        "id": "FVykzcO62qUW"
      },
      "execution_count": null,
      "outputs": []
    }
  ]
}